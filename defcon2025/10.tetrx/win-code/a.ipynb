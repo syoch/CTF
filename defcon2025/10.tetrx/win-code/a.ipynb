{
 "cells": [
  {
   "cell_type": "code",
   "execution_count": 16,
   "id": "007102af",
   "metadata": {},
   "outputs": [
    {
     "name": "stdout",
     "output_type": "stream",
     "text": [
      "\n",
      "a.o:     ファイル形式 elf64-x86-64\n",
      "\n",
      "\n",
      "セクション .text の逆アセンブル:\n",
      "\n",
      "0000000000000000 <_start>:\n",
      "   0:\t48 b8 04 5a 55 55 55 \t\u001b[33mmovabs \u001b[0m\u001b[35m$\u001b[0m\u001b[35m0x555555555a04\u001b[0m,\u001b[34m%rax\u001b[0m\n",
      "   7:\t55 00 00 \n",
      "   a:\tff d0                \t\u001b[33mcall   \u001b[0m*\u001b[34m%rax\u001b[0m\n",
      "\n",
      "000000000000000c <a>:\n",
      "   c:\teb fe                \t\u001b[33mjmp    \u001b[0m\u001b[35mc\u001b[0m <\u001b[32ma\u001b[0m>\n"
     ]
    }
   ],
   "source": [
    "with open(\"a.S\", \"w\") as f:\n",
    "    f.write(\n",
    "        \"\"\"\n",
    "        .section .text\n",
    "        .global _start\n",
    "        _start:\n",
    "            # mov 0(%rsp), %rax\n",
    "            movabs $0x0000555555555a04, %rax\n",
    "            call *%rax\n",
    "\n",
    "        a:  jmp a\n",
    "        \"\"\"\n",
    "    )\n",
    "\n",
    "!gcc -o0 -c a.S -o a.o\n",
    "!objdump -d a.o"
   ]
  }
 ],
 "metadata": {
  "kernelspec": {
   "display_name": ".venv",
   "language": "python",
   "name": "python3"
  },
  "language_info": {
   "codemirror_mode": {
    "name": "ipython",
    "version": 3
   },
   "file_extension": ".py",
   "mimetype": "text/x-python",
   "name": "python",
   "nbconvert_exporter": "python",
   "pygments_lexer": "ipython3",
   "version": "3.13.2"
  }
 },
 "nbformat": 4,
 "nbformat_minor": 5
}
