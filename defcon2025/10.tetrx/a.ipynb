{
 "cells": [
  {
   "cell_type": "code",
   "execution_count": 13,
   "id": "269cf2bc",
   "metadata": {},
   "outputs": [],
   "source": [
    "from pwn import *"
   ]
  },
  {
   "cell_type": "code",
   "execution_count": 14,
   "id": "b5761c85",
   "metadata": {},
   "outputs": [],
   "source": [
    "# Mino mask defs: toszlji\n",
    "masks = [\n",
    "    (0, 0, (2, 3), [0b010, 0b111]),\n",
    "    (0, 1, (3, 2), [0b10, 0b11, 0b10]),\n",
    "    (0, 2, (2, 3), [0b111, 0b010]),\n",
    "    (0, 3, (3, 2), [0b01, 0b11, 0b01]),\n",
    "\n",
    "    (1, 0, (2, 2), [0b11, 0b11]),\n",
    "    (1, 1, (2, 2), [0b11, 0b11]),\n",
    "    (1, 2, (2, 2), [0b11, 0b11]),\n",
    "    (1, 3, (2, 2), [0b11, 0b11]),\n",
    "\n",
    "    (2, 0, (2, 3), [0b011, 0b110]),\n",
    "    (2, 1, (3, 2), [0b10, 0b11, 0b01]),\n",
    "    (2, 2, (2, 3), [0b011, 0b110]),\n",
    "    (2, 3, (3, 2), [0b10, 0b11, 0b01]),\n",
    "\n",
    "    (3, 0, (2, 3), [0b110, 0b011]),\n",
    "    (3, 1, (3, 2), [0b01, 0b11, 0b10]),\n",
    "    (3, 2, (2, 3), [0b110, 0b011]),\n",
    "    (3, 3, (3, 2), [0b01, 0b11, 0b10]),\n",
    "\n",
    "    (4, 0, (3, 2), [0b10, 0b10, 0b11]),\n",
    "    (4, 1, (2, 3), [0b111, 0b100]),\n",
    "    (4, 2, (3, 2), [0b11, 0b01, 0b01]),\n",
    "    (4, 3, (2, 3), [0b001, 0b111]),\n",
    "\n",
    "    (5, 0, (3, 2), [0b01, 0b01, 0b11]),\n",
    "    (5, 1, (2, 3), [0b100, 0b111]),\n",
    "    (5, 2, (3, 2), [0b11, 0b10, 0b10]),\n",
    "    (5, 3, (2, 3), [0b111, 0b001]),\n",
    "\n",
    "    (6, 0, (4, 1), [0b1, 0b1, 0b1, 0b1]),\n",
    "    (6, 1, (1, 4), [0b1111]),\n",
    "    (6, 2, (4, 1), [0b1, 0b1, 0b1, 0b1]),\n",
    "    (6, 3, (1, 4), [0b1111])\n",
    "]"
   ]
  },
  {
   "cell_type": "code",
   "execution_count": 50,
   "id": "51c59d62",
   "metadata": {},
   "outputs": [],
   "source": [
    "board = [\n",
    "    0b1111000010100000,\n",
    "    0b0000110111011100,\n",
    "    0b1110111101110111,\n",
    "    0b0010101011111010,\n",
    "    0b0001011011001010,\n",
    "    0b1111010011001110,\n",
    "    0b0111011011110100,\n",
    "    0b0100011010010110,\n",
    "    0b1101110111110100,\n",
    "    0b0110101000010010,\n",
    "    0b1000110001101111,\n",
    "    0b1111111111111111\n",
    "]\n",
    "board_w = 16\n",
    "board_h = len(board)\n",
    "\n",
    "confirmed_mask = [0 for _ in range(board_w)]"
   ]
  },
  {
   "cell_type": "code",
   "execution_count": 60,
   "id": "98a3bece",
   "metadata": {},
   "outputs": [],
   "source": [
    "def detect_free_br_corner():\n",
    "    # Detect bottom right corner\n",
    "    area_b = -1\n",
    "    for y in range(board_h-1, 0, -1):\n",
    "        if board[y] != 0:\n",
    "            area_b = y\n",
    "            break\n",
    "    print(\"area_b\", area_b)\n",
    "\n",
    "    for x in range(board_w-1, 0, -1):\n",
    "        if (board[area_b] &~ confirmed_mask[area_b]) & (1 << x):\n",
    "            area_r = x\n",
    "            break\n",
    "\n",
    "    return area_b, area_r\n"
   ]
  },
  {
   "cell_type": "code",
   "execution_count": 80,
   "id": "24c221ef",
   "metadata": {},
   "outputs": [],
   "source": [
    "confirmed_mask = [0 for _ in range(board_w)]"
   ]
  },
  {
   "cell_type": "code",
   "execution_count": 81,
   "id": "6d3f41b2",
   "metadata": {},
   "outputs": [
    {
     "name": "stdout",
     "output_type": "stream",
     "text": [
      "area_b 11\n",
      "area_b: 11, area_r: 15\n",
      "0/0 area_x: 13, area_y: 10\n",
      "mino: 0/0, h,w: (2, 3), d:2$7, [2, 7] & [3, 7] -> True, area on 10, 13\n"
     ]
    }
   ],
   "source": [
    "area_b, area_r = detect_free_br_corner()\n",
    "print(f\"area_b: {area_b}, area_r: {area_r}\")\n",
    "\n",
    "for (mino_type, mino_rotation, mino_area, mask) in masks:\n",
    "    area_h = mino_area[0]\n",
    "    area_w = mino_area[1]\n",
    "\n",
    "    area_x = area_r - area_w + 1\n",
    "    area_y = area_b - area_h + 1\n",
    "    print(f\"{mino_type}/{mino_rotation} area_x: {area_x}, area_y: {area_y}\")\n",
    "\n",
    "    area_shift_row = board_w - area_r + 1\n",
    "    area_mask_row = (1 << area_w) - 1\n",
    "\n",
    "\n",
    "    area = [\n",
    "        (board[area_y + i] & ~confirmed_mask[area_y + i] ) >> area_shift_row & area_mask_row\n",
    "        for i in range(area_h)\n",
    "    ]\n",
    "    area_match = all(\n",
    "        area[i] & mask[i] == mask[i]\n",
    "        for i in range(area_h)\n",
    "    )\n",
    "    if not area_match:\n",
    "        continue\n",
    "\n",
    "    if (mino_type, mino_rotation) == (0, -1):\n",
    "        print(\"Skip 0/0\")\n",
    "        continue\n",
    "    # Confirm mask\n",
    "    for i in range(area_h):\n",
    "        confirmed_mask[area_y + i] |= mask[i] << area_shift_row\n",
    "\n",
    "\n",
    "    print(f\"mino: {mino_type}/{mino_rotation}, h,w: {mino_area}, d:{area_shift_row}${area_mask_row}, {mask} & {area} -> {area_match}, area on {area_y}, {area_x}\")\n",
    "    break"
   ]
  },
  {
   "cell_type": "code",
   "execution_count": 82,
   "id": "1bdc4969",
   "metadata": {},
   "outputs": [
    {
     "name": "stdout",
     "output_type": "stream",
     "text": [
      "area_b 11\n",
      "corner: (11, 15)\n",
      "board: 12x16\n",
      "00 \u001b[0;m#\u001b[0m\u001b[0;m#\u001b[0m\u001b[0;m#\u001b[0m\u001b[0;m#\u001b[0m\u001b[0;m.\u001b[0m\u001b[0;m.\u001b[0m\u001b[0;m.\u001b[0m\u001b[0;m.\u001b[0m\u001b[0;m#\u001b[0m\u001b[0;m.\u001b[0m\u001b[0;m#\u001b[0m\u001b[0;m.\u001b[0m\u001b[0;m.\u001b[0m\u001b[0;m.\u001b[0m\u001b[0;m.\u001b[0m\u001b[0;m.\u001b[0m\n",
      "01 \u001b[0;m.\u001b[0m\u001b[0;m.\u001b[0m\u001b[0;m.\u001b[0m\u001b[0;m.\u001b[0m\u001b[0;m#\u001b[0m\u001b[0;m#\u001b[0m\u001b[0;m.\u001b[0m\u001b[0;m#\u001b[0m\u001b[0;m#\u001b[0m\u001b[0;m#\u001b[0m\u001b[0;m.\u001b[0m\u001b[0;m#\u001b[0m\u001b[0;m#\u001b[0m\u001b[0;m#\u001b[0m\u001b[0;m.\u001b[0m\u001b[0;m.\u001b[0m\n",
      "02 \u001b[0;m#\u001b[0m\u001b[0;m#\u001b[0m\u001b[0;m#\u001b[0m\u001b[0;m.\u001b[0m\u001b[0;m#\u001b[0m\u001b[0;m#\u001b[0m\u001b[0;m#\u001b[0m\u001b[0;m#\u001b[0m\u001b[0;m.\u001b[0m\u001b[0;m#\u001b[0m\u001b[0;m#\u001b[0m\u001b[0;m#\u001b[0m\u001b[0;m.\u001b[0m\u001b[0;m#\u001b[0m\u001b[0;m#\u001b[0m\u001b[0;m#\u001b[0m\n",
      "03 \u001b[0;m.\u001b[0m\u001b[0;m.\u001b[0m\u001b[0;m#\u001b[0m\u001b[0;m.\u001b[0m\u001b[0;m#\u001b[0m\u001b[0;m.\u001b[0m\u001b[0;m#\u001b[0m\u001b[0;m.\u001b[0m\u001b[0;m#\u001b[0m\u001b[0;m#\u001b[0m\u001b[0;m#\u001b[0m\u001b[0;m#\u001b[0m\u001b[0;m#\u001b[0m\u001b[0;m.\u001b[0m\u001b[0;m#\u001b[0m\u001b[0;m.\u001b[0m\n",
      "04 \u001b[0;m.\u001b[0m\u001b[0;m.\u001b[0m\u001b[0;m.\u001b[0m\u001b[0;m#\u001b[0m\u001b[0;m.\u001b[0m\u001b[0;m#\u001b[0m\u001b[0;m#\u001b[0m\u001b[0;m.\u001b[0m\u001b[0;m#\u001b[0m\u001b[0;m#\u001b[0m\u001b[0;m.\u001b[0m\u001b[0;m.\u001b[0m\u001b[0;m#\u001b[0m\u001b[0;m.\u001b[0m\u001b[0;m#\u001b[0m\u001b[0;m.\u001b[0m\n",
      "05 \u001b[0;m#\u001b[0m\u001b[0;m#\u001b[0m\u001b[0;m#\u001b[0m\u001b[0;m#\u001b[0m\u001b[0;m.\u001b[0m\u001b[0;m#\u001b[0m\u001b[0;m.\u001b[0m\u001b[0;m.\u001b[0m\u001b[0;m#\u001b[0m\u001b[0;m#\u001b[0m\u001b[0;m.\u001b[0m\u001b[0;m.\u001b[0m\u001b[0;m#\u001b[0m\u001b[0;m#\u001b[0m\u001b[0;m#\u001b[0m\u001b[0;m.\u001b[0m\n",
      "06 \u001b[0;m.\u001b[0m\u001b[0;m#\u001b[0m\u001b[0;m#\u001b[0m\u001b[0;m#\u001b[0m\u001b[0;m.\u001b[0m\u001b[0;m#\u001b[0m\u001b[0;m#\u001b[0m\u001b[0;m.\u001b[0m\u001b[0;m#\u001b[0m\u001b[0;m#\u001b[0m\u001b[0;m#\u001b[0m\u001b[0;m#\u001b[0m\u001b[0;m.\u001b[0m\u001b[0;m#\u001b[0m\u001b[0;m.\u001b[0m\u001b[0;m.\u001b[0m\n",
      "07 \u001b[0;m.\u001b[0m\u001b[0;m#\u001b[0m\u001b[0;m.\u001b[0m\u001b[0;m.\u001b[0m\u001b[0;m.\u001b[0m\u001b[0;m#\u001b[0m\u001b[0;m#\u001b[0m\u001b[0;m.\u001b[0m\u001b[0;m#\u001b[0m\u001b[0;m.\u001b[0m\u001b[0;m.\u001b[0m\u001b[0;m#\u001b[0m\u001b[0;m.\u001b[0m\u001b[0;m#\u001b[0m\u001b[0;m#\u001b[0m\u001b[0;m.\u001b[0m\n",
      "08 \u001b[0;m#\u001b[0m\u001b[0;m#\u001b[0m\u001b[0;m.\u001b[0m\u001b[0;m#\u001b[0m\u001b[0;m#\u001b[0m\u001b[0;m#\u001b[0m\u001b[0;m.\u001b[0m\u001b[0;m#\u001b[0m\u001b[0;m#\u001b[0m\u001b[0;m#\u001b[0m\u001b[0;m#\u001b[0m\u001b[0;m#\u001b[0m\u001b[0;m.\u001b[0m\u001b[0;m#\u001b[0m\u001b[0;m.\u001b[0m\u001b[0;m.\u001b[0m\n",
      "09 \u001b[0;m.\u001b[0m\u001b[0;m#\u001b[0m\u001b[0;m#\u001b[0m\u001b[0;m.\u001b[0m\u001b[0;m#\u001b[0m\u001b[0;m.\u001b[0m\u001b[0;m#\u001b[0m\u001b[0;m.\u001b[0m\u001b[0;m.\u001b[0m\u001b[0;m.\u001b[0m\u001b[0;m.\u001b[0m\u001b[0;m#\u001b[0m\u001b[0;m.\u001b[0m\u001b[0;m.\u001b[0m\u001b[0;m#\u001b[0m\u001b[0;m.\u001b[0m\n",
      "10 \u001b[0;m#\u001b[0m\u001b[0;m.\u001b[0m\u001b[0;m.\u001b[0m\u001b[0;m.\u001b[0m\u001b[0;m#\u001b[0m\u001b[0;m#\u001b[0m\u001b[0;m.\u001b[0m\u001b[0;m.\u001b[0m\u001b[0;m.\u001b[0m\u001b[0;m#\u001b[0m\u001b[0;m#\u001b[0m\u001b[0;m.\u001b[0m\u001b[0;42m.\u001b[0m\u001b[0;m#\u001b[0m\u001b[0;m#\u001b[0m\u001b[0;m#\u001b[0m\n",
      "\u001b[31m11 \u001b[0m\u001b[0;m#\u001b[0m\u001b[0;m#\u001b[0m\u001b[0;m#\u001b[0m\u001b[0;m#\u001b[0m\u001b[0;m#\u001b[0m\u001b[0;m#\u001b[0m\u001b[0;m#\u001b[0m\u001b[0;m#\u001b[0m\u001b[0;m#\u001b[0m\u001b[0;m#\u001b[0m\u001b[0;m#\u001b[0m\u001b[0;42m#\u001b[0m\u001b[0;42m#\u001b[0m\u001b[0;42m#\u001b[0m\u001b[0;m#\u001b[0m\u001b[0;31m#\u001b[0m\n"
     ]
    }
   ],
   "source": [
    "corner = detect_free_br_corner()\n",
    "print(f\"corner: {corner}\")\n",
    "print(f\"board: {board_h}x{board_w}\")\n",
    "\n",
    "for i in range(board_h):\n",
    "    line = \"\"\n",
    "    if i == area_b:\n",
    "        line += \"\\x1b[31m\"\n",
    "    line += f\"{i:02} \"\n",
    "    if i == area_b:\n",
    "        line += \"\\x1b[0m\"\n",
    "\n",
    "    for j in range(board_w):\n",
    "        mask = (1 << (board_w - j - 1))\n",
    "        modes = []\n",
    "\n",
    "        if confirmed_mask[i] & mask:\n",
    "            modes.append(\"42\")\n",
    "        elif board[i] & mask:\n",
    "            ch = \"#\"\n",
    "        else:\n",
    "            ch = \".\"\n",
    "\n",
    "        if i == area_b and j == area_r:\n",
    "            modes.append(\"31\")\n",
    "\n",
    "        modes_txt = \";\".join(modes)\n",
    "        line += f\"\\x1b[0;{modes_txt}m{ch}\\x1b[0m\"\n",
    "    print(line)"
   ]
  }
 ],
 "metadata": {
  "kernelspec": {
   "display_name": ".venv",
   "language": "python",
   "name": "python3"
  },
  "language_info": {
   "codemirror_mode": {
    "name": "ipython",
    "version": 3
   },
   "file_extension": ".py",
   "mimetype": "text/x-python",
   "name": "python",
   "nbconvert_exporter": "python",
   "pygments_lexer": "ipython3",
   "version": "3.13.2"
  }
 },
 "nbformat": 4,
 "nbformat_minor": 5
}
